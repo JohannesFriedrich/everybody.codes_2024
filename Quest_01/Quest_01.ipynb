{
 "cells": [
  {
   "cell_type": "markdown",
   "metadata": {},
   "source": [
    "# Part 1"
   ]
  },
  {
   "cell_type": "code",
   "execution_count": 11,
   "metadata": {},
   "outputs": [
    {
     "name": "stdout",
     "output_type": "stream",
     "text": [
      "1309\n"
     ]
    }
   ],
   "source": [
    "file_name = \"everybody_codes_e2024_q01_p1.txt\"\n",
    "file = open(file_name, \"r\")\n",
    "data = list(file.read())\n",
    "\n",
    "print(data.count(\"B\") + 3*data.count(\"C\"))\n"
   ]
  },
  {
   "cell_type": "markdown",
   "metadata": {},
   "source": [
    "# Part 2"
   ]
  },
  {
   "cell_type": "code",
   "execution_count": null,
   "metadata": {},
   "outputs": [
    {
     "name": "stdout",
     "output_type": "stream",
     "text": [
      "5560\n"
     ]
    }
   ],
   "source": [
    "file_name = \"everybody_codes_e2024_q01_p2.txt\"\n",
    "file = open(file_name, \"r\")\n",
    "data = list(file.read())\n",
    "\n",
    "potions = {\n",
    "    \"A\":0,\n",
    "    \"B\":1,\n",
    "    \"C\":3,\n",
    "    \"D\":5,\n",
    "    \"x\":0\n",
    "}\n",
    "# data = [\"A\",\"x\",\"B\",\"C\",\"D\",\"D\",\"C\",\"A\",\"x\",\"D\"]\n",
    "\n",
    "groups = [data[i:i+2] for i in range(0, len(data), 2)]\n",
    "res = 0\n",
    "for group in groups:\n",
    "    if \"x\" in group:\n",
    "        res += sum([potions[i] for i in group])\n",
    "    else: \n",
    "        res += sum([potions[i]+1 for i in group])\n",
    "print(res)"
   ]
  },
  {
   "cell_type": "markdown",
   "metadata": {},
   "source": [
    "# Part 3"
   ]
  },
  {
   "cell_type": "code",
   "execution_count": 51,
   "metadata": {},
   "outputs": [
    {
     "name": "stdout",
     "output_type": "stream",
     "text": [
      "27840\n"
     ]
    }
   ],
   "source": [
    "file_name = \"everybody_codes_e2024_q01_p3.txt\"\n",
    "file = open(file_name, \"r\")\n",
    "data = list(file.read())\n",
    "\n",
    "groups = [data[i:i+3] for i in range(0, len(data), 3)]\n",
    "res = 0\n",
    "for group in groups:\n",
    "    if group.count(\"x\") == 3:\n",
    "        pass\n",
    "    elif group.count(\"x\") == 2:\n",
    "        res += sum([potions[i] for i in group])\n",
    "    elif group.count(\"x\") == 1:\n",
    "        res += sum([potions[i]+1 for i in group])-1\n",
    "    else: \n",
    "        res += sum([potions[i]+2 for i in group])\n",
    "print(res)\n",
    "\n",
    "# 1 6 15 8 "
   ]
  },
  {
   "cell_type": "code",
   "execution_count": null,
   "metadata": {},
   "outputs": [],
   "source": []
  }
 ],
 "metadata": {
  "kernelspec": {
   "display_name": "Python 3",
   "language": "python",
   "name": "python3"
  },
  "language_info": {
   "codemirror_mode": {
    "name": "ipython",
    "version": 3
   },
   "file_extension": ".py",
   "mimetype": "text/x-python",
   "name": "python",
   "nbconvert_exporter": "python",
   "pygments_lexer": "ipython3",
   "version": "3.12.6"
  }
 },
 "nbformat": 4,
 "nbformat_minor": 2
}
