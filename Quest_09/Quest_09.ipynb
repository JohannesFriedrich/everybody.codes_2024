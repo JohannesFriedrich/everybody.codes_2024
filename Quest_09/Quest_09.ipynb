{
 "cells": [
  {
   "cell_type": "markdown",
   "metadata": {},
   "source": [
    "# Part 1"
   ]
  },
  {
   "cell_type": "code",
   "execution_count": null,
   "metadata": {},
   "outputs": [
    {
     "data": {
      "text/plain": [
       "13260"
      ]
     },
     "execution_count": 27,
     "metadata": {},
     "output_type": "execute_result"
    }
   ],
   "source": [
    "file_name = \"everybody_codes_e2024_q09_p1.txt\"\n",
    "file = open(file_name, \"r\")\n",
    "data = [int(i) for i in file.read().strip().split(\"\\n\")]\n",
    "\n",
    "dots = [1,3,5,10]\n",
    "\n",
    "def min_dots(brightness, dots):\n",
    "    dp = [float('inf')] * (brightness + 1)\n",
    "    dp[0] = 0  # base case\n",
    "    for amount in range(1, brightness + 1):\n",
    "        for dot in dots:\n",
    "            if amount - dot >= 0:\n",
    "                dp[amount] = min(dp[amount], dp[amount - dot] + 1)\n",
    "\n",
    "    return dp[brightness]\n",
    "\n",
    "sum([min_dots(x, dots) for x in data])\n"
   ]
  },
  {
   "cell_type": "markdown",
   "metadata": {},
   "source": [
    "# Part 2"
   ]
  },
  {
   "cell_type": "code",
   "execution_count": 29,
   "metadata": {},
   "outputs": [
    {
     "data": {
      "text/plain": [
       "4941"
      ]
     },
     "execution_count": 29,
     "metadata": {},
     "output_type": "execute_result"
    }
   ],
   "source": [
    "file_name = \"everybody_codes_e2024_q09_p2.txt\"\n",
    "file = open(file_name, \"r\")\n",
    "data = [int(i) for i in file.read().strip().split(\"\\n\")]\n",
    "\n",
    "dots = [1, 3, 5, 10, 15, 16, 20, 24, 25, 30]\n",
    "\n",
    "def min_dots(brightness, dots):\n",
    "    dp = [float('inf')] * (brightness + 1)\n",
    "    dp[0] = 0  # base case\n",
    "    for amount in range(1, brightness + 1):\n",
    "        for dot in dots:\n",
    "            if amount - dot >= 0:\n",
    "                dp[amount] = min(dp[amount], dp[amount - dot] + 1)\n",
    "\n",
    "    return dp[brightness]\n",
    "\n",
    "sum([min_dots(x, dots) for x in data])"
   ]
  },
  {
   "cell_type": "markdown",
   "metadata": {},
   "source": [
    "# Part 3"
   ]
  },
  {
   "cell_type": "code",
   "execution_count": null,
   "metadata": {},
   "outputs": [
    {
     "name": "stdout",
     "output_type": "stream",
     "text": [
      "amount: 1, coin: 1, min: 1\n",
      "amount: 2, coin: 1, min: 2\n",
      "amount: 3, coin: 1, min: 3\n",
      "amount: 3, coin: 3, min: 1\n",
      "1\n"
     ]
    }
   ],
   "source": [
    "def min_dots(dots, brightness):\n",
    "    dp = [float('inf')] * (brightness + 1)\n",
    "    dp[0] = 0  # base case\n",
    "    for amount in range(1, brightness + 1):\n",
    "        for dot in dots:\n",
    "            if amount - dot >= 0:\n",
    "                dp[amount] = min(dp[amount], dp[amount - dot] + 1)\n",
    "\n",
    "    return len(dp[brightness])\n",
    "\n",
    "min_coins()\n"
   ]
  },
  {
   "cell_type": "code",
   "execution_count": null,
   "metadata": {},
   "outputs": [],
   "source": []
  }
 ],
 "metadata": {
  "kernelspec": {
   "display_name": "Python 3",
   "language": "python",
   "name": "python3"
  },
  "language_info": {
   "codemirror_mode": {
    "name": "ipython",
    "version": 3
   },
   "file_extension": ".py",
   "mimetype": "text/x-python",
   "name": "python",
   "nbconvert_exporter": "python",
   "pygments_lexer": "ipython3",
   "version": "3.12.6"
  }
 },
 "nbformat": 4,
 "nbformat_minor": 2
}
