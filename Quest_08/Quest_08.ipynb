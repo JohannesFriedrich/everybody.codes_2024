{
 "cells": [
  {
   "cell_type": "markdown",
   "metadata": {},
   "source": [
    "# Part 1"
   ]
  },
  {
   "cell_type": "code",
   "execution_count": 5,
   "metadata": {},
   "outputs": [
    {
     "name": "stdout",
     "output_type": "stream",
     "text": [
      "10333048\n"
     ]
    }
   ],
   "source": [
    "import math\n",
    "file_name = \"everybody_codes_e2024_q08_p1.txt\"\n",
    "file = open(file_name, \"r\")\n",
    "data = int(file.read().strip())\n",
    "\n",
    "final_level = (math.floor(math.sqrt(data))+1)\n",
    "final_width = 2*final_level - 1\n",
    "missing_stones = final_level**2 - data\n",
    "print(missing_stones * final_width)\n",
    "\n"
   ]
  },
  {
   "cell_type": "markdown",
   "metadata": {},
   "source": [
    "# Part 2"
   ]
  },
  {
   "cell_type": "code",
   "execution_count": 29,
   "metadata": {},
   "outputs": [],
   "source": [
    "available_blocks = 20240000\n",
    "priests_nullpointer = 681\n",
    "priest_acolytes = 1111\n",
    "\n",
    "cur_used_blocks = 1\n",
    "cur_thickness = 1\n",
    "cur_width = 1\n"
   ]
  },
  {
   "cell_type": "code",
   "execution_count": 30,
   "metadata": {},
   "outputs": [
    {
     "name": "stdout",
     "output_type": "stream",
     "text": [
      "149958630\n"
     ]
    }
   ],
   "source": [
    "\n",
    "while cur_used_blocks <= available_blocks:\n",
    "    cur_width += 2\n",
    "    new_thickness = (cur_thickness * priests_nullpointer)%priest_acolytes\n",
    "    cur_used_blocks += new_thickness * cur_width\n",
    "    cur_thickness = new_thickness\n",
    "\n",
    "print(cur_width * (cur_used_blocks - available_blocks))\n",
    "\n"
   ]
  },
  {
   "cell_type": "markdown",
   "metadata": {},
   "source": [
    "# Part 3"
   ]
  },
  {
   "cell_type": "code",
   "execution_count": null,
   "metadata": {},
   "outputs": [
    {
     "name": "stdout",
     "output_type": "stream",
     "text": [
      "[1, 7, 9, 8, 6]\n"
     ]
    }
   ],
   "source": [
    "available_blocks = 160\n",
    "priests_nullpointer = 2\n",
    "priest_acolytes = 5\n",
    "\n",
    "cur_used_blocks = 1\n",
    "cur_thickness = 1\n",
    "cur_width = 1\n",
    "\n",
    "thickness = [cur_thickness]\n",
    "\n",
    "while cur_used_blocks <= available_blocks:\n",
    "    cur_width += 2\n",
    "    new_thickness = (cur_thickness * priests_nullpointer)%priest_acolytes + priest_acolytes\n",
    "    cur_used_blocks += new_thickness * cur_width\n",
    "    cur_thickness = new_thickness\n",
    "    thickness.append(cur_thickness)\n",
    "\n",
    "print(thickness)"
   ]
  },
  {
   "cell_type": "code",
   "execution_count": null,
   "metadata": {},
   "outputs": [],
   "source": []
  }
 ],
 "metadata": {
  "kernelspec": {
   "display_name": "Python 3",
   "language": "python",
   "name": "python3"
  },
  "language_info": {
   "codemirror_mode": {
    "name": "ipython",
    "version": 3
   },
   "file_extension": ".py",
   "mimetype": "text/x-python",
   "name": "python",
   "nbconvert_exporter": "python",
   "pygments_lexer": "ipython3",
   "version": "3.12.6"
  }
 },
 "nbformat": 4,
 "nbformat_minor": 2
}
