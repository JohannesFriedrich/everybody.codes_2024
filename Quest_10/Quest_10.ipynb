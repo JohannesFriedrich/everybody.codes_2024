{
 "cells": [
  {
   "cell_type": "markdown",
   "metadata": {},
   "source": [
    "# Part 1"
   ]
  },
  {
   "cell_type": "code",
   "execution_count": 37,
   "metadata": {},
   "outputs": [
    {
     "data": {
      "text/plain": [
       "'WBMTJHNLDRXCFVGZ'"
      ]
     },
     "execution_count": 37,
     "metadata": {},
     "output_type": "execute_result"
    }
   ],
   "source": [
    "import numpy as np\n",
    "file_name = \"everybody_codes_e2024_q10_p1.txt\"\n",
    "file = open(file_name, \"r\")\n",
    "data = file.read().strip().split(\"\\n\")\n",
    "\n",
    "G = [[c for c in line] for line in data]\n",
    "\n",
    "arr = np.array(G)\n",
    "\n",
    "def get_runes(arr):\n",
    "    C,R = arr.shape\n",
    "    res = []\n",
    "    for r in range(2,R-2):\n",
    "        row = arr[r,(0,1,6,7)]\n",
    "        for c in range(2,C-2):\n",
    "            col = arr[(0,1,6,7),c]\n",
    "            res += list(set(row) & set(col))\n",
    "\n",
    "    return \"\".join(res)\n",
    "\n",
    "get_runes(arr)\n",
    "    \n",
    "    \n",
    "\n"
   ]
  },
  {
   "cell_type": "markdown",
   "metadata": {},
   "source": [
    "# Part 2"
   ]
  },
  {
   "cell_type": "code",
   "execution_count": null,
   "metadata": {},
   "outputs": [
    {
     "data": {
      "text/plain": [
       "196382"
      ]
     },
     "execution_count": 50,
     "metadata": {},
     "output_type": "execute_result"
    }
   ],
   "source": [
    "import numpy as np\n",
    "import string\n",
    "file_name = \"everybody_codes_e2024_q10_p2.txt\"\n",
    "file = open(file_name, \"r\")\n",
    "data = file.read().strip().split(\"\\n\\n\")\n",
    "data = [[ j.split(\" \") for j in line.split(\"\\n\") ] for line in data]\n",
    "\n",
    "grids = []\n",
    "\n",
    "power = {value: key+1 for key, value in enumerate(string.ascii_uppercase)}\n",
    "\n",
    "for a in range(len(data)):\n",
    "    for b in range(len(data[0][0])): \n",
    "        grids.append(np.array([[i for i in data[a][j][b]] for j in range(8)]))\n",
    "\n",
    "\n",
    "runes = [get_runes(grid) for grid in grids]\n",
    "\n",
    "sum([sum([power[val]*(i+1) for i,val in enumerate(line)]) for line in runes])\n",
    "\n",
    "\n",
    "\n",
    "\n"
   ]
  },
  {
   "cell_type": "markdown",
   "metadata": {},
   "source": [
    "# Part 3"
   ]
  },
  {
   "cell_type": "code",
   "execution_count": null,
   "metadata": {},
   "outputs": [],
   "source": []
  },
  {
   "cell_type": "code",
   "execution_count": null,
   "metadata": {},
   "outputs": [],
   "source": []
  }
 ],
 "metadata": {
  "kernelspec": {
   "display_name": "Python 3",
   "language": "python",
   "name": "python3"
  },
  "language_info": {
   "codemirror_mode": {
    "name": "ipython",
    "version": 3
   },
   "file_extension": ".py",
   "mimetype": "text/x-python",
   "name": "python",
   "nbconvert_exporter": "python",
   "pygments_lexer": "ipython3",
   "version": "3.12.6"
  }
 },
 "nbformat": 4,
 "nbformat_minor": 2
}
