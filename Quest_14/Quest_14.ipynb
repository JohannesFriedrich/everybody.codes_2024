{
 "cells": [
  {
   "cell_type": "markdown",
   "metadata": {},
   "source": [
    "# Part 1"
   ]
  },
  {
   "cell_type": "code",
   "execution_count": null,
   "metadata": {},
   "outputs": [],
   "source": [
    "file_name = \"everybody_codes_e2024_q14_p1.txt\"\n",
    "file = open(file_name, \"r\")\n",
    "data = file.read().strip().split(\",\")\n",
    "steps = [[steps[0], int(steps[1:])] for steps in data]\n",
    "x = y = z = 0\n",
    "max_height = 0\n",
    "for step in steps:\n",
    "    match step[0]:\n",
    "        case \"U\":\n",
    "            y += step[1]\n",
    "        case \"D\":\n",
    "            y -= step[1]\n",
    "    max_height = max(max_height, y)\n",
    "\n",
    "print(max_height)\n"
   ]
  },
  {
   "cell_type": "markdown",
   "metadata": {},
   "source": [
    "# Part 2"
   ]
  },
  {
   "cell_type": "code",
   "execution_count": null,
   "metadata": {},
   "outputs": [],
   "source": [
    "\n",
    "file_name = \"everybody_codes_e2024_q14_p2.txt\"\n",
    "file = open(file_name, \"r\")\n",
    "data = file.read().strip().split(\"\\n\")\n",
    "data = [[(step[0], int(step[1:])) for step in steps.split(\",\")] for steps in data]\n",
    "\n",
    "dirs= {\"U\": (0,1,0), \"D\": (0,-1,0), \"R\": (1,0,0), \"L\": (-1,0,0), \"F\": (0,0,1), \"B\": (0,0,-1)}\n",
    "\n",
    "positions = set()\n",
    "\n",
    "for steps in data:\n",
    "\n",
    "    x = y = z = 0\n",
    "    for step in steps:\n",
    "        dir, length = step\n",
    "        dx, dy, dz = dirs[dir]\n",
    "        # create all tuples from start to end:\n",
    "        for i in range(length):\n",
    "            x,y,z = x+dx, y+dy, z+dz\n",
    "            positions.add((x,y,z))\n",
    "\n",
    "print(len(positions))\n",
    "\n",
    "\n",
    "    \n",
    "\n"
   ]
  },
  {
   "cell_type": "markdown",
   "metadata": {},
   "source": [
    "# Part 3"
   ]
  },
  {
   "cell_type": "code",
   "execution_count": null,
   "metadata": {},
   "outputs": [
    {
     "data": {
      "text/plain": [
       "1648"
      ]
     },
     "execution_count": 36,
     "metadata": {},
     "output_type": "execute_result"
    }
   ],
   "source": [
    "\n",
    "from collections import deque\n",
    "\n",
    "file_name = \"everybody_codes_e2024_q14_p3.txt\"\n",
    "file = open(file_name, \"r\")\n",
    "data = file.read().strip().split(\"\\n\")\n",
    "data = [[(step[0], int(step[1:])) for step in steps.split(\",\")] for steps in data]\n",
    "\n",
    "dirs= {\"U\": (0,1,0), \"D\": (0,-1,0), \"R\": (1,0,0), \"L\": (-1,0,0), \"F\": (0,0,1), \"B\": (0,0,-1)}\n",
    "\n",
    "positions = set()\n",
    "leafs = set()\n",
    "\n",
    "# find leafs and all possible coordinates\n",
    "for steps in data:\n",
    "\n",
    "    x = y = z = 0\n",
    "    for step in steps:\n",
    "        dir, length = step\n",
    "        dx, dy, dz = dirs[dir]\n",
    "        # create all tuples from start to end:\n",
    "        for i in range(length):\n",
    "            x,y,z = x+dx, y+dy, z+dz\n",
    "            positions.add((x,y,z))\n",
    "    leafs.add((x,y,z))\n",
    "\n",
    "# now we need a BFS to search nearest fruit\n",
    "\n",
    "def bfs(positions, start, end):\n",
    "\n",
    "    dist_2_leaf = 0\n",
    "    found = 0\n",
    "    visited = set()\n",
    "\n",
    "    queue = deque([(0, start[0], start[1], start[2])])\n",
    "    while queue:\n",
    "\n",
    "        d, x, y, z = queue.popleft()\n",
    "\n",
    "        if (x,y,z) in end:\n",
    "            dist_2_leaf += d\n",
    "            found += 1\n",
    "        \n",
    "        if found == len(end):\n",
    "            break\n",
    "\n",
    "        for dx, dy, dz in dirs.values():\n",
    "            xx,yy,zz = x+dx,y+dy,z+dz\n",
    "            if (xx,yy,zz) in positions and (xx,yy,zz) not in visited:\n",
    "                queue.append((d+1, xx, yy, zz))\n",
    "                visited.add((xx,yy,zz))\n",
    "        \n",
    "    return dist_2_leaf\n",
    "\n",
    "\n",
    "res = []\n",
    "for (x,y,z) in positions:\n",
    "    # search for main trunk\n",
    "    if x == 0 and z == 0: \n",
    "        res.append(bfs(positions, (x,y,z), leafs))\n",
    "\n",
    "min(res)"
   ]
  },
  {
   "cell_type": "code",
   "execution_count": null,
   "metadata": {},
   "outputs": [],
   "source": []
  },
  {
   "cell_type": "code",
   "execution_count": null,
   "metadata": {},
   "outputs": [],
   "source": []
  }
 ],
 "metadata": {
  "kernelspec": {
   "display_name": "Python 3",
   "language": "python",
   "name": "python3"
  },
  "language_info": {
   "codemirror_mode": {
    "name": "ipython",
    "version": 3
   },
   "file_extension": ".py",
   "mimetype": "text/x-python",
   "name": "python",
   "nbconvert_exporter": "python",
   "pygments_lexer": "ipython3",
   "version": "3.12.6"
  }
 },
 "nbformat": 4,
 "nbformat_minor": 2
}
