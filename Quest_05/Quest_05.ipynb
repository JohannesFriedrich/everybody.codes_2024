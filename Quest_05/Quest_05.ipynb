{
 "cells": [
  {
   "cell_type": "markdown",
   "metadata": {},
   "source": [
    "# Part 1"
   ]
  },
  {
   "cell_type": "code",
   "execution_count": 13,
   "metadata": {},
   "outputs": [
    {
     "name": "stdout",
     "output_type": "stream",
     "text": [
      "2332\n"
     ]
    }
   ],
   "source": [
    "file_name = \"everybody_codes_e2024_q05_p1.txt\"\n",
    "file = open(file_name, \"r\")\n",
    "data = file.read().strip().split(\"\\n\")\n",
    "\n",
    "R = [[int(c) for c in line.split(\" \")] for line in data]\n",
    "# change rows and columns. Every list now in R is a column in the original data\n",
    "R = list(map(list, zip(*R)))\n",
    "n_cols = len(R)\n",
    "\n",
    "def get_number():\n",
    "    # check if left or right:\n",
    "    # left: in front, right: behind\n",
    "    left = (dancer-1)%(2*len(col)) < len(col) #correct\n",
    "    \n",
    "    if left:\n",
    "        # corner-case: dancer is exact at the end of the col\n",
    "        # modulo calculation would be 0, but index is end of col\n",
    "        if dancer%len(col) == 0:\n",
    "            idx = len(col)\n",
    "        else:\n",
    "            idx = dancer%len(col)-1\n",
    "    else:\n",
    "        # corner-case: dancer is exact at the beginnig of the col\n",
    "        # modulo calculation would be 0, but index is 1\n",
    "        if dancer%(2*len(col)) == 0:\n",
    "            idx = 1\n",
    "        else:\n",
    "            idx = 2*len(col)+1 - dancer%(2*len(col))\n",
    "        \n",
    "    R[i%n_cols].insert(idx, dancer) \n",
    "\n",
    "    return \"\".join([str(j[0]) for j in R])\n",
    "\n",
    "for i in range(1,11):\n",
    "    dancer = R[(i-1)%n_cols].pop(0)\n",
    "    col = R[i%n_cols]\n",
    "    res = get_number()\n",
    "\n",
    "print(res)\n",
    "\n"
   ]
  },
  {
   "cell_type": "markdown",
   "metadata": {},
   "source": [
    "# Part 2"
   ]
  },
  {
   "cell_type": "code",
   "execution_count": 14,
   "metadata": {},
   "outputs": [
    {
     "name": "stdout",
     "output_type": "stream",
     "text": [
      "21686353371830\n"
     ]
    }
   ],
   "source": [
    "from collections import defaultdict\n",
    "\n",
    "file_name = \"everybody_codes_e2024_q05_p2.txt\"\n",
    "# file_name = \"text.txt\"\n",
    "file = open(file_name, \"r\")\n",
    "data = file.read().strip().split(\"\\n\")\n",
    "\n",
    "R = [[int(c) for c in line.split(\" \")] for line in data]\n",
    "# change rows and columns. Every list now in R is a column in the original data\n",
    "R = list(map(list, zip(*R)))\n",
    "n_cols = len(R)\n",
    "res_dict = defaultdict(int)\n",
    "\n",
    "i = 1\n",
    "while True:\n",
    "    dancer = R[(i-1)%n_cols].pop(0)\n",
    "    col = R[i%n_cols]\n",
    "    left = (dancer-1)%(2*len(col)) < len(col) #correct\n",
    "    \n",
    "    if left:\n",
    "        if dancer%len(col) == 0:\n",
    "            idx = len(col)\n",
    "        else:\n",
    "            idx = dancer%len(col)-1\n",
    "    else:\n",
    "        if dancer%(2*len(col)) == 0:\n",
    "            idx = 1\n",
    "        else:\n",
    "            idx = 2*len(col)+1 - dancer%(2*len(col))\n",
    "        \n",
    "    R[i%n_cols].insert(idx, dancer) \n",
    "\n",
    "    number =  \"\".join([str(j[0]) for j in R])\n",
    "    res_dict[number] += 1\n",
    "    if res_dict[number] == 2024:\n",
    "        break\n",
    "    else:\n",
    "        i += 1\n",
    "    \n",
    "print(i*int(number))\n",
    "\n",
    "# 21686353371830"
   ]
  },
  {
   "cell_type": "markdown",
   "metadata": {},
   "source": [
    "# Part 3"
   ]
  },
  {
   "cell_type": "code",
   "execution_count": null,
   "metadata": {},
   "outputs": [
    {
     "name": "stdout",
     "output_type": "stream",
     "text": [
      "1001100410035579\n",
      "1004100195341005\n",
      "1009100010011000\n",
      "1009100810011000\n",
      "5579100310041000\n",
      "9788100110001000\n"
     ]
    },
    {
     "ename": "KeyboardInterrupt",
     "evalue": "",
     "output_type": "error",
     "traceback": [
      "\u001b[0;31m---------------------------------------------------------------------------\u001b[0m",
      "\u001b[0;31mKeyboardInterrupt\u001b[0m                         Traceback (most recent call last)",
      "Cell \u001b[0;32mIn[15], line 19\u001b[0m\n\u001b[1;32m     16\u001b[0m \u001b[38;5;66;03m# dancer = 19\u001b[39;00m\n\u001b[1;32m     17\u001b[0m col \u001b[38;5;241m=\u001b[39m R[i\u001b[38;5;241m%\u001b[39mn_cols]\n\u001b[0;32m---> 19\u001b[0m number \u001b[38;5;241m=\u001b[39m \u001b[43mget_number\u001b[49m\u001b[43m(\u001b[49m\u001b[43m)\u001b[49m\n\u001b[1;32m     21\u001b[0m \u001b[38;5;28;01mif\u001b[39;00m \u001b[38;5;28mint\u001b[39m(number) \u001b[38;5;241m>\u001b[39m max_num:\n\u001b[1;32m     22\u001b[0m     \u001b[38;5;28mprint\u001b[39m(number)\n",
      "Cell \u001b[0;32mIn[13], line 32\u001b[0m, in \u001b[0;36mget_number\u001b[0;34m()\u001b[0m\n\u001b[1;32m     28\u001b[0m         idx \u001b[38;5;241m=\u001b[39m \u001b[38;5;241m2\u001b[39m\u001b[38;5;241m*\u001b[39m\u001b[38;5;28mlen\u001b[39m(col)\u001b[38;5;241m+\u001b[39m\u001b[38;5;241m1\u001b[39m \u001b[38;5;241m-\u001b[39m dancer\u001b[38;5;241m%\u001b[39m(\u001b[38;5;241m2\u001b[39m\u001b[38;5;241m*\u001b[39m\u001b[38;5;28mlen\u001b[39m(col))\n\u001b[1;32m     30\u001b[0m R[i\u001b[38;5;241m%\u001b[39mn_cols]\u001b[38;5;241m.\u001b[39minsert(idx, dancer) \n\u001b[0;32m---> 32\u001b[0m \u001b[38;5;28;01mreturn\u001b[39;00m \u001b[38;5;124m\"\u001b[39m\u001b[38;5;124m\"\u001b[39m\u001b[38;5;241m.\u001b[39mjoin([\u001b[38;5;28;43mstr\u001b[39;49m\u001b[43m(\u001b[49m\u001b[43mj\u001b[49m\u001b[43m[\u001b[49m\u001b[38;5;241;43m0\u001b[39;49m\u001b[43m]\u001b[49m\u001b[43m)\u001b[49m \u001b[38;5;28;01mfor\u001b[39;00m j \u001b[38;5;129;01min\u001b[39;00m R])\n",
      "\u001b[0;31mKeyboardInterrupt\u001b[0m: "
     ]
    }
   ],
   "source": [
    "import itertools\n",
    "\n",
    "file_name = \"everybody_codes_e2024_q05_p3.txt\"\n",
    "file = open(file_name, \"r\")\n",
    "data = file.read().strip().split(\"\\n\")\n",
    "\n",
    "R = [[int(c) for c in line.split(\" \")] for line in data]\n",
    "# change rows and columns. Every list now in R is a column in the original data\n",
    "R = list(map(list, zip(*R)))\n",
    "n_cols: int = len(R)\n",
    "max_num = 0\n",
    "i = 1\n",
    "\n",
    "while True:\n",
    "    dancer = R[(i-1)%n_cols].pop(0)\n",
    "    col = R[i%n_cols]\n",
    "\n",
    "    number = get_number()\n",
    "    \n",
    "    if int(number) > max_num:\n",
    "        print(number)\n",
    "        max_num = int(number)\n",
    "    i += 1\n",
    "    \n"
   ]
  }
 ],
 "metadata": {
  "kernelspec": {
   "display_name": "Python 3",
   "language": "python",
   "name": "python3"
  },
  "language_info": {
   "codemirror_mode": {
    "name": "ipython",
    "version": 3
   },
   "file_extension": ".py",
   "mimetype": "text/x-python",
   "name": "python",
   "nbconvert_exporter": "python",
   "pygments_lexer": "ipython3",
   "version": "3.12.6"
  }
 },
 "nbformat": 4,
 "nbformat_minor": 2
}
