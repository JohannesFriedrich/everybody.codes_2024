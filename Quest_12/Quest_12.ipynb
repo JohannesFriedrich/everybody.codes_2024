{
 "cells": [
  {
   "cell_type": "code",
   "execution_count": 1,
   "metadata": {},
   "outputs": [
    {
     "name": "stdout",
     "output_type": "stream",
     "text": [
      "Requirement already satisfied: numpy in /Library/Frameworks/Python.framework/Versions/3.12/lib/python3.12/site-packages (1.26.4)\n"
     ]
    }
   ],
   "source": [
    "import sys\n",
    "!{sys.executable} -m pip install --user numpy"
   ]
  },
  {
   "cell_type": "markdown",
   "metadata": {},
   "source": [
    "# Part 1"
   ]
  },
  {
   "cell_type": "code",
   "execution_count": null,
   "metadata": {},
   "outputs": [
    {
     "name": "stdout",
     "output_type": "stream",
     "text": [
      "Start: B, with power 4 to target (1, 12)\n",
      "Start: B, with power 5 to target (1, 15)\n",
      "Start: B, with power 7 to target (1, 21)\n",
      "Start: C, with power 9 to target (1, 28)\n",
      "Start: C, with power 10 to target (1, 31)\n",
      "Start: A, with power 4 to target (2, 12)\n",
      "Start: A, with power 5 to target (2, 15)\n",
      "Start: A, with power 7 to target (2, 21)\n",
      "Start: B, with power 9 to target (2, 28)\n",
      "Start: B, with power 10 to target (2, 31)\n",
      "Start: C, with power 3 to target (3, 12)\n",
      "Start: C, with power 4 to target (3, 15)\n",
      "Start: C, with power 6 to target (3, 21)\n",
      "Start: A, with power 9 to target (3, 28)\n",
      "Start: A, with power 10 to target (3, 31)\n",
      "201\n"
     ]
    }
   ],
   "source": [
    "file_name = \"everybody_codes_e2024_q12_p1.txt\"\n",
    "file = open(file_name, \"r\")\n",
    "data = file.read().strip().split(\"\\n\")\n",
    "\n",
    "G = [[c for c in line] for line in data]\n",
    "R = len(G)\n",
    "C = len(G[0])\n",
    "\n",
    "start = {}\n",
    "targets = []\n",
    "dict_ = dict(A=1, B=2, C=3)\n",
    "\n",
    "for r in range(R):\n",
    "    for c in range(C):\n",
    "        if G[r][c] == \"C\":\n",
    "            start[\"C\"] = (r,c)\n",
    "            start[\"B\"] = (r+1,c)\n",
    "            start[\"A\"] = (r+2,c)\n",
    "        if G[r][c] == \"T\":\n",
    "            targets.append((r,c))\n",
    "\n",
    "res = 0\n",
    "for target in targets:\n",
    "    found = False\n",
    "    for k,i in start.items():\n",
    "        dist = (target[1]- i[1], -(target[0] - i[0]))\n",
    "        power_guess = dist[0]//3\n",
    "\n",
    "        while not found and power_guess<dist[0]:\n",
    "            if abs(dist[0] - 2 * power_guess) == power_guess - dist[1]:\n",
    "                res += dict_[k] * power_guess\n",
    "                found = True\n",
    "            else:\n",
    "                power_guess += 1\n",
    "    if not found:\n",
    "        print(f\"Target {target} no hit\")\n",
    "\n",
    "\n",
    "print(res)"
   ]
  },
  {
   "cell_type": "markdown",
   "metadata": {},
   "source": [
    "# Part 2"
   ]
  },
  {
   "cell_type": "code",
   "execution_count": null,
   "metadata": {},
   "outputs": [
    {
     "name": "stdout",
     "output_type": "stream",
     "text": [
      "20719\n"
     ]
    }
   ],
   "source": [
    "\n",
    "file_name = \"everybody_codes_e2024_q12_p2.txt\"\n",
    "file = open(file_name, \"r\")\n",
    "data = file.read().strip().split(\"\\n\")\n",
    "\n",
    "G = [[c for c in line] for line in data]\n",
    "R = len(G)\n",
    "C = len(G[0])\n",
    "\n",
    "start = {}\n",
    "targets = []\n",
    "dict_ = dict(A=1, B=2, C=3)\n",
    "\n",
    "for r in range(R):\n",
    "    for c in range(C):\n",
    "        if G[r][c] == \"C\":\n",
    "            start[\"C\"] = (r,c)\n",
    "            start[\"B\"] = (r+1,c)\n",
    "            start[\"A\"] = (r+2,c)\n",
    "        if G[r][c] in [\"T\", \"H\"]:\n",
    "            targets.append((r,c))\n",
    "\n",
    "res = 0\n",
    "for target in targets:\n",
    "    found = False\n",
    "    part_res = {}\n",
    "    # find all needed powers for all starting positions\n",
    "    for k,i in start.items():\n",
    "        dist = (target[1]- i[1], -(target[0] - i[0]))\n",
    "        power_guess = dist[0]//3\n",
    "\n",
    "        while power_guess<abs(dist[0]):\n",
    "            if abs(dist[0] - 2 * power_guess) == power_guess - dist[1]:\n",
    "                # print(f\"Start: {k}, with power {power_guess} to target {target}\")\n",
    "                part_res[k] = power_guess\n",
    "                break\n",
    "            else:\n",
    "                power_guess += 1\n",
    "                \n",
    "    fac = 2 if G[target[0]][target[1]] == \"H\" else 1\n",
    "\n",
    "    # take the one with lowest power needed\n",
    "    min_power = sorted(part_res, key=part_res.get)[0]\n",
    "    res += dict_[min_power] * min(part_res.values()) * fac\n",
    "\n",
    "    if len(part_res)<1:\n",
    "        print(f\"No hit for target {target}\")\n",
    "\n",
    "\n",
    "print(res)"
   ]
  },
  {
   "cell_type": "markdown",
   "metadata": {},
   "source": [
    "# Part 3"
   ]
  },
  {
   "cell_type": "code",
   "execution_count": null,
   "metadata": {},
   "outputs": [
    {
     "ename": "KeyboardInterrupt",
     "evalue": "",
     "output_type": "error",
     "traceback": [
      "\u001b[0;31m---------------------------------------------------------------------------\u001b[0m",
      "\u001b[0;31mKeyboardInterrupt\u001b[0m                         Traceback (most recent call last)",
      "Cell \u001b[0;32mIn[53], line 10\u001b[0m\n\u001b[1;32m      6\u001b[0m data \u001b[38;5;241m=\u001b[39m file\u001b[38;5;241m.\u001b[39mread()\u001b[38;5;241m.\u001b[39mstrip()\u001b[38;5;241m.\u001b[39msplit(\u001b[38;5;124m\"\u001b[39m\u001b[38;5;130;01m\\n\u001b[39;00m\u001b[38;5;124m\"\u001b[39m)\n\u001b[1;32m      8\u001b[0m G \u001b[38;5;241m=\u001b[39m [(x[\u001b[38;5;241m0\u001b[39m], x[\u001b[38;5;241m1\u001b[39m]) \u001b[38;5;28;01mfor\u001b[39;00m x \u001b[38;5;129;01min\u001b[39;00m (line\u001b[38;5;241m.\u001b[39msplit(\u001b[38;5;124m\"\u001b[39m\u001b[38;5;124m \u001b[39m\u001b[38;5;124m\"\u001b[39m) \u001b[38;5;28;01mfor\u001b[39;00m line \u001b[38;5;129;01min\u001b[39;00m data)]\n\u001b[0;32m---> 10\u001b[0m dict_ \u001b[38;5;241m=\u001b[39m \u001b[38;5;28mdict\u001b[39m(A\u001b[38;5;241m=\u001b[39m\u001b[38;5;241m1\u001b[39m, B\u001b[38;5;241m=\u001b[39m\u001b[38;5;241m2\u001b[39m, C\u001b[38;5;241m=\u001b[39m\u001b[38;5;241m3\u001b[39m)\n\u001b[1;32m     14\u001b[0m \u001b[38;5;28;01mdef\u001b[39;00m \u001b[38;5;21mcalc_needed_power\u001b[39m(target):\n\u001b[1;32m     15\u001b[0m     res \u001b[38;5;241m=\u001b[39m \u001b[38;5;241m0\u001b[39m\n",
      "File \u001b[0;32m~/Library/Python/3.12/lib/python/site-packages/debugpy/_vendored/pydevd/_pydevd_sys_monitoring/_pydevd_sys_monitoring.py:1423\u001b[0m, in \u001b[0;36m_line_event\u001b[0;34m(code, line)\u001b[0m\n\u001b[1;32m   1419\u001b[0m \u001b[38;5;66;03m# print('line event', code.co_name, line)\u001b[39;00m\n\u001b[1;32m   1420\u001b[0m \n\u001b[1;32m   1421\u001b[0m \u001b[38;5;66;03m# We know the frame depth.\u001b[39;00m\n\u001b[1;32m   1422\u001b[0m frame \u001b[38;5;241m=\u001b[39m _getframe(\u001b[38;5;241m1\u001b[39m)\n\u001b[0;32m-> 1423\u001b[0m \u001b[38;5;28;01mreturn\u001b[39;00m \u001b[43m_internal_line_event\u001b[49m\u001b[43m(\u001b[49m\u001b[43mfunc_code_info\u001b[49m\u001b[43m,\u001b[49m\u001b[43m \u001b[49m\u001b[43mframe\u001b[49m\u001b[43m,\u001b[49m\u001b[43m \u001b[49m\u001b[43mline\u001b[49m\u001b[43m)\u001b[49m\n",
      "File \u001b[0;32m~/Library/Python/3.12/lib/python/site-packages/debugpy/_vendored/pydevd/_pydevd_sys_monitoring/_pydevd_sys_monitoring.py:1465\u001b[0m, in \u001b[0;36m_internal_line_event\u001b[0;34m(func_code_info, frame, line)\u001b[0m\n\u001b[1;32m   1462\u001b[0m         stop \u001b[38;5;241m=\u001b[39m \u001b[38;5;28;01mTrue\u001b[39;00m\n\u001b[1;32m   1464\u001b[0m     \u001b[38;5;28;01mif\u001b[39;00m bp:\n\u001b[0;32m-> 1465\u001b[0m         \u001b[38;5;28;01mif\u001b[39;00m \u001b[43m_stop_on_breakpoint\u001b[49m\u001b[43m(\u001b[49m\u001b[43mpy_db\u001b[49m\u001b[43m,\u001b[49m\u001b[43m \u001b[49m\u001b[43mthread_info\u001b[49m\u001b[43m,\u001b[49m\u001b[43m \u001b[49m\u001b[43mstop_reason\u001b[49m\u001b[43m,\u001b[49m\u001b[43m \u001b[49m\u001b[43mbp\u001b[49m\u001b[43m,\u001b[49m\u001b[43m \u001b[49m\u001b[43mframe\u001b[49m\u001b[43m,\u001b[49m\u001b[43m \u001b[49m\u001b[43mnew_frame\u001b[49m\u001b[43m,\u001b[49m\u001b[43m \u001b[49m\u001b[43mstop\u001b[49m\u001b[43m,\u001b[49m\u001b[43m \u001b[49m\u001b[43mstop_on_plugin_breakpoint\u001b[49m\u001b[43m,\u001b[49m\u001b[43m \u001b[49m\u001b[38;5;124;43m\"\u001b[39;49m\u001b[38;5;124;43mpython-line\u001b[39;49m\u001b[38;5;124;43m\"\u001b[39;49m\u001b[43m)\u001b[49m:\n\u001b[1;32m   1466\u001b[0m             \u001b[38;5;28;01mreturn\u001b[39;00m\n\u001b[1;32m   1468\u001b[0m \u001b[38;5;28;01mif\u001b[39;00m func_code_info\u001b[38;5;241m.\u001b[39mplugin_line_breakpoint_found:\n",
      "File \u001b[0;32m~/Library/Python/3.12/lib/python/site-packages/debugpy/_vendored/pydevd/_pydevd_sys_monitoring/_pydevd_sys_monitoring.py:1272\u001b[0m, in \u001b[0;36m_stop_on_breakpoint\u001b[0;34m(py_db, thread_info, stop_reason, bp, frame, new_frame, stop, stop_on_plugin_breakpoint, bp_type)\u001b[0m\n\u001b[1;32m   1266\u001b[0m     py_db\u001b[38;5;241m.\u001b[39mset_suspend(\n\u001b[1;32m   1267\u001b[0m         thread_info\u001b[38;5;241m.\u001b[39mthread,\n\u001b[1;32m   1268\u001b[0m         stop_reason,\n\u001b[1;32m   1269\u001b[0m         suspend_other_threads\u001b[38;5;241m=\u001b[39mbp \u001b[38;5;129;01mand\u001b[39;00m bp\u001b[38;5;241m.\u001b[39msuspend_policy \u001b[38;5;241m==\u001b[39m \u001b[38;5;124m\"\u001b[39m\u001b[38;5;124mALL\u001b[39m\u001b[38;5;124m\"\u001b[39m,\n\u001b[1;32m   1270\u001b[0m     )\n\u001b[1;32m   1271\u001b[0m     \u001b[38;5;66;03m# print('suspend on breakpoint...')\u001b[39;00m\n\u001b[0;32m-> 1272\u001b[0m     \u001b[43m_do_wait_suspend\u001b[49m\u001b[43m(\u001b[49m\u001b[43mpy_db\u001b[49m\u001b[43m,\u001b[49m\u001b[43m \u001b[49m\u001b[43mthread_info\u001b[49m\u001b[43m,\u001b[49m\u001b[43m \u001b[49m\u001b[43mframe\u001b[49m\u001b[43m,\u001b[49m\u001b[43m \u001b[49m\u001b[38;5;124;43m\"\u001b[39;49m\u001b[38;5;124;43mline\u001b[39;49m\u001b[38;5;124;43m\"\u001b[39;49m\u001b[43m,\u001b[49m\u001b[43m \u001b[49m\u001b[38;5;28;43;01mNone\u001b[39;49;00m\u001b[43m)\u001b[49m\n\u001b[1;32m   1273\u001b[0m     \u001b[38;5;28;01mreturn\u001b[39;00m \u001b[38;5;28;01mTrue\u001b[39;00m\n\u001b[1;32m   1275\u001b[0m \u001b[38;5;28;01melif\u001b[39;00m stop_on_plugin_breakpoint:\n",
      "File \u001b[0;32m~/Library/Python/3.12/lib/python/site-packages/debugpy/_vendored/pydevd/_pydevd_sys_monitoring/_pydevd_sys_monitoring.py:1900\u001b[0m, in \u001b[0;36m_do_wait_suspend\u001b[0;34m(py_db, thread_info, frame, event, arg)\u001b[0m\n\u001b[1;32m   1896\u001b[0m \u001b[38;5;28;01mdef\u001b[39;00m \u001b[38;5;21m_do_wait_suspend\u001b[39m(py_db, thread_info, frame, event, arg):\n\u001b[1;32m   1897\u001b[0m \u001b[38;5;66;03m# ENDIF\u001b[39;00m\n\u001b[1;32m   1898\u001b[0m \u001b[38;5;66;03m# fmt: on\u001b[39;00m\n\u001b[1;32m   1899\u001b[0m     thread_info\u001b[38;5;241m.\u001b[39madditional_info\u001b[38;5;241m.\u001b[39mtrace_suspend_type \u001b[38;5;241m=\u001b[39m \u001b[38;5;124m\"\u001b[39m\u001b[38;5;124msys_monitor\u001b[39m\u001b[38;5;124m\"\u001b[39m\n\u001b[0;32m-> 1900\u001b[0m     \u001b[43mpy_db\u001b[49m\u001b[38;5;241;43m.\u001b[39;49m\u001b[43mdo_wait_suspend\u001b[49m\u001b[43m(\u001b[49m\u001b[43mthread_info\u001b[49m\u001b[38;5;241;43m.\u001b[39;49m\u001b[43mthread\u001b[49m\u001b[43m,\u001b[49m\u001b[43m \u001b[49m\u001b[43mframe\u001b[49m\u001b[43m,\u001b[49m\u001b[43m \u001b[49m\u001b[43mevent\u001b[49m\u001b[43m,\u001b[49m\u001b[43m \u001b[49m\u001b[43marg\u001b[49m\u001b[43m)\u001b[49m\n",
      "File \u001b[0;32m~/Library/Python/3.12/lib/python/site-packages/debugpy/_vendored/pydevd/pydevd.py:2197\u001b[0m, in \u001b[0;36mPyDB.do_wait_suspend\u001b[0;34m(self, thread, frame, event, arg, exception_type)\u001b[0m\n\u001b[1;32m   2194\u001b[0m             from_this_thread\u001b[38;5;241m.\u001b[39mappend(frame_custom_thread_id)\n\u001b[1;32m   2196\u001b[0m     \u001b[38;5;28;01mwith\u001b[39;00m \u001b[38;5;28mself\u001b[39m\u001b[38;5;241m.\u001b[39m_threads_suspended_single_notification\u001b[38;5;241m.\u001b[39mnotify_thread_suspended(thread_id, thread, stop_reason):\n\u001b[0;32m-> 2197\u001b[0m         keep_suspended \u001b[38;5;241m=\u001b[39m \u001b[38;5;28;43mself\u001b[39;49m\u001b[38;5;241;43m.\u001b[39;49m\u001b[43m_do_wait_suspend\u001b[49m\u001b[43m(\u001b[49m\u001b[43mthread\u001b[49m\u001b[43m,\u001b[49m\u001b[43m \u001b[49m\u001b[43mframe\u001b[49m\u001b[43m,\u001b[49m\u001b[43m \u001b[49m\u001b[43mevent\u001b[49m\u001b[43m,\u001b[49m\u001b[43m \u001b[49m\u001b[43marg\u001b[49m\u001b[43m,\u001b[49m\u001b[43m \u001b[49m\u001b[43mtrace_suspend_type\u001b[49m\u001b[43m,\u001b[49m\u001b[43m \u001b[49m\u001b[43mfrom_this_thread\u001b[49m\u001b[43m,\u001b[49m\u001b[43m \u001b[49m\u001b[43mframes_tracker\u001b[49m\u001b[43m)\u001b[49m\n\u001b[1;32m   2199\u001b[0m frames_list \u001b[38;5;241m=\u001b[39m \u001b[38;5;28;01mNone\u001b[39;00m\n\u001b[1;32m   2201\u001b[0m \u001b[38;5;28;01mif\u001b[39;00m keep_suspended:\n\u001b[1;32m   2202\u001b[0m     \u001b[38;5;66;03m# This means that we should pause again after a set next statement.\u001b[39;00m\n",
      "File \u001b[0;32m~/Library/Python/3.12/lib/python/site-packages/debugpy/_vendored/pydevd/pydevd.py:2266\u001b[0m, in \u001b[0;36mPyDB._do_wait_suspend\u001b[0;34m(self, thread, frame, event, arg, trace_suspend_type, from_this_thread, frames_tracker)\u001b[0m\n\u001b[1;32m   2263\u001b[0m                 queue\u001b[38;5;241m.\u001b[39mput(internal_cmd)\n\u001b[1;32m   2264\u001b[0m                 wait_timeout \u001b[38;5;241m=\u001b[39m TIMEOUT_FAST\n\u001b[0;32m-> 2266\u001b[0m         \u001b[43mnotify_event\u001b[49m\u001b[38;5;241;43m.\u001b[39;49m\u001b[43mwait\u001b[49m\u001b[43m(\u001b[49m\u001b[43mwait_timeout\u001b[49m\u001b[43m)\u001b[49m\n\u001b[1;32m   2267\u001b[0m         notify_event\u001b[38;5;241m.\u001b[39mclear()\n\u001b[1;32m   2269\u001b[0m \u001b[38;5;28;01mfinally\u001b[39;00m:\n",
      "File \u001b[0;32m/Library/Frameworks/Python.framework/Versions/3.12/lib/python3.12/threading.py:655\u001b[0m, in \u001b[0;36mEvent.wait\u001b[0;34m(self, timeout)\u001b[0m\n\u001b[1;32m    653\u001b[0m signaled \u001b[38;5;241m=\u001b[39m \u001b[38;5;28mself\u001b[39m\u001b[38;5;241m.\u001b[39m_flag\n\u001b[1;32m    654\u001b[0m \u001b[38;5;28;01mif\u001b[39;00m \u001b[38;5;129;01mnot\u001b[39;00m signaled:\n\u001b[0;32m--> 655\u001b[0m     signaled \u001b[38;5;241m=\u001b[39m \u001b[38;5;28;43mself\u001b[39;49m\u001b[38;5;241;43m.\u001b[39;49m\u001b[43m_cond\u001b[49m\u001b[38;5;241;43m.\u001b[39;49m\u001b[43mwait\u001b[49m\u001b[43m(\u001b[49m\u001b[43mtimeout\u001b[49m\u001b[43m)\u001b[49m\n\u001b[1;32m    656\u001b[0m \u001b[38;5;28;01mreturn\u001b[39;00m signaled\n",
      "File \u001b[0;32m/Library/Frameworks/Python.framework/Versions/3.12/lib/python3.12/threading.py:359\u001b[0m, in \u001b[0;36mCondition.wait\u001b[0;34m(self, timeout)\u001b[0m\n\u001b[1;32m    357\u001b[0m \u001b[38;5;28;01melse\u001b[39;00m:\n\u001b[1;32m    358\u001b[0m     \u001b[38;5;28;01mif\u001b[39;00m timeout \u001b[38;5;241m>\u001b[39m \u001b[38;5;241m0\u001b[39m:\n\u001b[0;32m--> 359\u001b[0m         gotit \u001b[38;5;241m=\u001b[39m \u001b[43mwaiter\u001b[49m\u001b[38;5;241;43m.\u001b[39;49m\u001b[43macquire\u001b[49m\u001b[43m(\u001b[49m\u001b[38;5;28;43;01mTrue\u001b[39;49;00m\u001b[43m,\u001b[49m\u001b[43m \u001b[49m\u001b[43mtimeout\u001b[49m\u001b[43m)\u001b[49m\n\u001b[1;32m    360\u001b[0m     \u001b[38;5;28;01melse\u001b[39;00m:\n\u001b[1;32m    361\u001b[0m         gotit \u001b[38;5;241m=\u001b[39m waiter\u001b[38;5;241m.\u001b[39macquire(\u001b[38;5;28;01mFalse\u001b[39;00m)\n",
      "\u001b[0;31mKeyboardInterrupt\u001b[0m: "
     ]
    }
   ],
   "source": [
    "from collections import defaultdict\n",
    "\n",
    "file_name = \"everybody_codes_e2024_q12_p3.txt\"\n",
    "file = open(file_name, \"r\")\n",
    "data = file.read().strip().split(\"\\n\")\n",
    "\n",
    "G = [(x[0], x[1]) for x in (line.split(\" \") for line in data)]\n",
    "\n",
    "dict_ = dict(A=1, B=2, C=3)\n",
    "\n",
    "def calc_needed_power(target, dist):\n",
    "    res = 0\n",
    "    part_res = {}\n",
    "    # find all needed powers for all starting positions\n",
    "    for k,i in start.items():\n",
    "        dist = (target[1]- i[1], -(target[0] - i[0]))\n",
    "        power_guess = dist[0]//3\n",
    "\n",
    "        while power_guess<abs(dist[0]):\n",
    "            if abs(dist[0] - 2 * power_guess) == power_guess - dist[1]:\n",
    "                # print(f\"Start: {k}, with power {power_guess} to target {target}\")\n",
    "                part_res[k] = power_guess\n",
    "                break\n",
    "            else:\n",
    "                power_guess += 1\n",
    "                \n",
    "    fac = 2 if G[target[0]][target[1]] == \"H\" else 1\n",
    "\n",
    "    # take the one with lowest power needed\n",
    "    min_power = sorted(part_res, key=part_res.get)[0]\n",
    "    res = dict_[min_power] * min(part_res.values()) * fac\n",
    "\n",
    "    if len(part_res)<1:\n",
    "        print(f\"No hit for target {target}\")\n",
    "\n",
    "    return res\n",
    "\n",
    "\n",
    "\n",
    "print(res)"
   ]
  },
  {
   "cell_type": "code",
   "execution_count": null,
   "metadata": {},
   "outputs": [],
   "source": []
  }
 ],
 "metadata": {
  "kernelspec": {
   "display_name": "Python 3",
   "language": "python",
   "name": "python3"
  },
  "language_info": {
   "codemirror_mode": {
    "name": "ipython",
    "version": 3
   },
   "file_extension": ".py",
   "mimetype": "text/x-python",
   "name": "python",
   "nbconvert_exporter": "python",
   "pygments_lexer": "ipython3",
   "version": "3.12.6"
  }
 },
 "nbformat": 4,
 "nbformat_minor": 2
}
