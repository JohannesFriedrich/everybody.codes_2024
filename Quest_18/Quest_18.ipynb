{
 "cells": [
  {
   "cell_type": "markdown",
   "metadata": {},
   "source": [
    "# Part 1"
   ]
  },
  {
   "cell_type": "code",
   "execution_count": null,
   "metadata": {},
   "outputs": [
    {
     "name": "stdout",
     "output_type": "stream",
     "text": [
      "109\n"
     ]
    }
   ],
   "source": [
    "from collections import deque\n",
    "\n",
    "file_name = \"everybody_codes_e2024_q18_p1.txt\"\n",
    "\n",
    "file = open(file_name, \"r\")\n",
    "data = file.read().strip().split(\"\\n\")\n",
    "\n",
    "G = [[c for c in line] for line in data]\n",
    "R = len(G)\n",
    "C = len(G[0])\n",
    "\n",
    "# BFS\n",
    "queue = deque()\n",
    "visited = set()\n",
    "palms = set()\n",
    "\n",
    "# find start in first row and find all herbs\n",
    "for r in range(R):\n",
    "    for c in range (C):\n",
    "        if G[r][c] == \"P\":\n",
    "            palms.add((r,c))\n",
    "queue.append(((1,0), 0))\n",
    "\n",
    "while queue:\n",
    "\n",
    "    (r,c), d = queue.popleft()\n",
    "    if (r,c) in palms:\n",
    "        palms.remove((r,c))\n",
    "        # print(d)\n",
    "        if not palms:\n",
    "            print(d)\n",
    "            break\n",
    "    # find neighbours\n",
    "    for dr,dc in [(-1,0),(0,1),(1,0),(0,-1)]:\n",
    "        rr = r+dr\n",
    "        cc = c+dc\n",
    "        if 0<=rr<R and 0<=cc<C and G[rr][cc] != \"#\" and (rr,cc) not in visited:\n",
    "            queue.append(((rr,cc), d+1))\n",
    "            visited.add((rr,cc))\n"
   ]
  },
  {
   "cell_type": "markdown",
   "metadata": {},
   "source": [
    "# Part 2"
   ]
  },
  {
   "cell_type": "code",
   "execution_count": 12,
   "metadata": {},
   "outputs": [
    {
     "name": "stdout",
     "output_type": "stream",
     "text": [
      "found all palms after 1759 minutes\n"
     ]
    }
   ],
   "source": [
    "from collections import deque\n",
    "\n",
    "file_name = \"everybody_codes_e2024_q18_p2.txt\"\n",
    "file = open(file_name, \"r\")\n",
    "data = file.read().strip().split(\"\\n\")\n",
    "\n",
    "G = [[c for c in line] for line in data]\n",
    "R = len(G)\n",
    "C = len(G[0])\n",
    "\n",
    "# BFS\n",
    "queue = deque()\n",
    "queue2 = deque()\n",
    "visited = set()\n",
    "palms = set()\n",
    "\n",
    "# find start first/last col and find all palms\n",
    "for r in range(R):\n",
    "    for c in range(C):\n",
    "        if G[r][c] == \"P\":\n",
    "            palms.add((r,c))\n",
    "        if c == 0 and G[r][c] == \".\":\n",
    "            start1 = (r,c)\n",
    "        if c == (C-1) and G[r][c] == \".\":\n",
    "            start2 = (r,c)\n",
    "\n",
    "queue.append((start1, 0))\n",
    "queue2.append((start2,0))\n",
    "\n",
    "while queue or queue2:\n",
    "\n",
    "    if queue:\n",
    "        (r,c), d = queue.popleft()\n",
    "        if (r,c) in palms:\n",
    "            palms.remove((r,c))\n",
    "        # find neighbours\n",
    "        for dr,dc in [(-1,0),(0,1),(1,0),(0,-1)]:\n",
    "            rr = r+dr\n",
    "            cc = c+dc\n",
    "            if 0<=rr<R and 0<=cc<C and G[rr][cc] not in [\"#\"] and (rr,cc) not in visited:\n",
    "                queue.append(((rr,cc), d+ 1))\n",
    "                visited.add((rr,cc))\n",
    "    \n",
    "    # queue 2:\n",
    "    if queue2:\n",
    "        (r,c), d = queue2.popleft()\n",
    "        if (r,c) in palms:\n",
    "            palms.remove((r,c))\n",
    "\n",
    "        # find neighbours\n",
    "        for dr,dc in [(-1,0),(0,1),(1,0),(0,-1)]:\n",
    "            rr = r+dr\n",
    "            cc = c+dc\n",
    "            if 0<=rr<R and 0<=cc<C and G[rr][cc] not in [\"#\"] and (rr,cc) not in visited:\n",
    "                queue2.append(((rr,cc), d+ 1))\n",
    "                visited.add((rr,cc))\n",
    "\n",
    "    if not palms:\n",
    "        print(f\"found all palms after {d} minutes\")\n",
    "        break\n",
    "    "
   ]
  },
  {
   "cell_type": "markdown",
   "metadata": {},
   "source": [
    "# Part 3"
   ]
  },
  {
   "cell_type": "code",
   "execution_count": null,
   "metadata": {},
   "outputs": [],
   "source": [
    "from collections import deque\n",
    "from copy import deepcopy\n",
    "\n",
    "file_name = \"everybody_codes_e2024_q18_p3.txt\"\n",
    "# file_name = \"test.txt\"\n",
    "file = open(file_name, \"r\")\n",
    "data = file.read().strip().split(\"\\n\")\n",
    "\n",
    "G = [[c for c in line] for line in data]\n",
    "R = len(G)\n",
    "C = len(G[0])\n",
    "\n",
    "# BFS\n",
    "\n",
    "palms = set()\n",
    "\n",
    "# find start first/last col and find all palms\n",
    "start_positions = set()\n",
    "for r in range(R):\n",
    "    for c in range(C):\n",
    "        if G[r][c] == \"P\":\n",
    "            palms.add((r,c))\n",
    "        if G[r][c] == \".\":\n",
    "            start_positions.add((r,c))\n",
    "            \n",
    "\n",
    "def bfs(start_point: tuple) -> int:\n",
    "    palms_copy = deepcopy(palms)\n",
    "    queue = deque()\n",
    "    visited = set()\n",
    "\n",
    "    queue.append((start_point, 0))\n",
    "    palms_times = []\n",
    "    while queue:\n",
    "\n",
    "            (r,c), d = queue.popleft()\n",
    "            if (r,c) in palms_copy:\n",
    "                palms_copy.remove((r,c))\n",
    "                palms_times.append(d)\n",
    "                if not palms_copy:\n",
    "                    break\n",
    "            # find neighbours\n",
    "            for dr,dc in [(-1,0),(0,1),(1,0),(0,-1)]:\n",
    "                rr = r+dr\n",
    "                cc = c+dc\n",
    "                if 0<=rr<R and 0<=cc<C and G[rr][cc] not in [\"#\"] and (rr,cc) not in visited:\n",
    "                    queue.append(((rr,cc), d+ 1))\n",
    "                    visited.add((rr,cc))\n",
    "    return(sum(palms_times))\n",
    "\n",
    "\n",
    "res= []\n",
    "min_minutes = 10**10\n",
    "\n",
    "for start in start_positions:\n",
    "    min_minutes = min(min_minutes, bfs(start))\n",
    "\n",
    "print(min_minutes)"
   ]
  }
 ],
 "metadata": {
  "kernelspec": {
   "display_name": "Python 3",
   "language": "python",
   "name": "python3"
  },
  "language_info": {
   "codemirror_mode": {
    "name": "ipython",
    "version": 3
   },
   "file_extension": ".py",
   "mimetype": "text/x-python",
   "name": "python",
   "nbconvert_exporter": "python",
   "pygments_lexer": "ipython3",
   "version": "3.12.6"
  }
 },
 "nbformat": 4,
 "nbformat_minor": 2
}
