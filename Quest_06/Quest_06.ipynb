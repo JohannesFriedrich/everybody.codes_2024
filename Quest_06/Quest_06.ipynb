{
 "cells": [
  {
   "cell_type": "markdown",
   "metadata": {},
   "source": [
    "# Part 1"
   ]
  },
  {
   "cell_type": "code",
   "execution_count": null,
   "metadata": {},
   "outputs": [],
   "source": [
    "import numpy as np\n",
    "\n",
    "file_name = \"everybody_codes_e2024_q05_p1.txt\"\n",
    "file_name = \"text.txt\"\n",
    "file = open(file_name, \"r\")\n",
    "data = file.read().strip().split(\"\\n\")\n",
    "\n",
    "R = [[int(c) for c in line.split(\" \")] for line in data]\n",
    "arr = np.array(R)\n",
    "n_cols = arr.shape[1]\n",
    "\n",
    "# add additional row to handle absorbing of dancers\n",
    "arr = np.vstack([arr, [np.nan]*n_cols])\n",
    "\n",
    "\n",
    "# round 1:\n",
    "i = 1\n",
    "dancer = arr[0, (i-1)%n_cols]\n",
    "col = arr[:, i%n_cols]\n",
    "# left if dancer len(col)"
   ]
  },
  {
   "cell_type": "markdown",
   "metadata": {},
   "source": [
    "# Part 2"
   ]
  },
  {
   "cell_type": "code",
   "execution_count": null,
   "metadata": {},
   "outputs": [],
   "source": []
  },
  {
   "cell_type": "markdown",
   "metadata": {},
   "source": [
    "# Part 3"
   ]
  },
  {
   "cell_type": "code",
   "execution_count": null,
   "metadata": {},
   "outputs": [],
   "source": []
  },
  {
   "cell_type": "code",
   "execution_count": null,
   "metadata": {},
   "outputs": [],
   "source": []
  }
 ],
 "metadata": {
  "kernelspec": {
   "display_name": "Python 3",
   "language": "python",
   "name": "python3"
  },
  "language_info": {
   "codemirror_mode": {
    "name": "ipython",
    "version": 3
   },
   "file_extension": ".py",
   "mimetype": "text/x-python",
   "name": "python",
   "nbconvert_exporter": "python",
   "pygments_lexer": "ipython3",
   "version": "3.12.6"
  }
 },
 "nbformat": 4,
 "nbformat_minor": 2
}
