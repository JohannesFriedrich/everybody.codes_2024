{
 "cells": [
  {
   "cell_type": "markdown",
   "metadata": {},
   "source": [
    "# Part 1"
   ]
  },
  {
   "cell_type": "code",
   "execution_count": null,
   "metadata": {},
   "outputs": [
    {
     "name": "stdout",
     "output_type": "stream",
     "text": [
      "RRKQXQDKMTLJ@\n"
     ]
    }
   ],
   "source": [
    "from collections import defaultdict, Counter\n",
    "\n",
    "file_name = \"everybody_codes_e2024_q06_p1.txt\"\n",
    "# file_name =\"test.txt\"\n",
    "file = open(file_name, \"r\")\n",
    "data = file.read().strip().split(\"\\n\")\n",
    "\n",
    "dict_list = defaultdict(list)\n",
    "for line in data:\n",
    "    start, leafes = line.split(\":\")\n",
    "    leafes = leafes.split(\",\")\n",
    "    for leaf in leafes:\n",
    "        dict_list[start].append(leaf)\n",
    "\n",
    "def getPaths(root):\n",
    "    res = []\n",
    "    if root == '@':\n",
    "        return [['@']]\n",
    "    for c in dict_list[root]:\n",
    "        for p in getPaths(c):\n",
    "            res.append([root] + p)\n",
    "    return res\n",
    "\n",
    "paths = getPaths('RR')\n",
    "\n",
    "res = defaultdict(list)\n",
    "# iterate over all path and find lenght\n",
    "for path in paths:\n",
    "    res[len(path)].append(path)\n",
    "\n",
    "# find the length which appears just once\n",
    "for length in res:\n",
    "    if len(res[length]) == 1:\n",
    "        print(\"\".join(res[length][0]))\n",
    "\n",
    "\n",
    "    \n"
   ]
  },
  {
   "cell_type": "markdown",
   "metadata": {},
   "source": [
    "# Part 2"
   ]
  },
  {
   "cell_type": "code",
   "execution_count": null,
   "metadata": {},
   "outputs": [],
   "source": [
    "from collections import defaultdict\n",
    "\n",
    "file_name = \"everybody_codes_e2024_q06_p2.txt\"\n",
    "file = open(file_name, \"r\")\n",
    "data = file.read().strip().split(\"\\n\")\n",
    "\n",
    "dict_list = defaultdict(list)\n",
    "for line in data:\n",
    "    start, leafes = line.split(\":\")\n",
    "    leafes = leafes.split(\",\")\n",
    "    for leaf in leafes:\n",
    "        dict_list[start].append(leaf)\n",
    "\n",
    "def getPaths(root):\n",
    "    res = []\n",
    "    if root == '@':\n",
    "        return [['@']]\n",
    "    for c in dict_list[root]:\n",
    "        for p in getPaths(c):\n",
    "            res.append([root] + p)\n",
    "    return res\n",
    "\n",
    "paths = getPaths('RR')\n",
    "\n",
    "res = defaultdict(list)\n",
    "# iterate over all path and find lenght\n",
    "for path in paths:\n",
    "    res[len(path)].append(path)\n",
    "\n",
    "# find the length which appears just once\n",
    "for length in res:\n",
    "    if len(res[length]) == 1:\n",
    "        print(\"\".join([i[0] for i in res[length][0]]))\n",
    "\n",
    "\n",
    "    \n"
   ]
  },
  {
   "cell_type": "markdown",
   "metadata": {},
   "source": [
    "# Part 3"
   ]
  },
  {
   "cell_type": "code",
   "execution_count": 1,
   "metadata": {},
   "outputs": [
    {
     "name": "stdout",
     "output_type": "stream",
     "text": [
      "RZGMNPZNDWTV@\n"
     ]
    }
   ],
   "source": [
    "import sys\n",
    "sys.setrecursionlimit(10**6)\n",
    "\n",
    "from collections import defaultdict\n",
    "\n",
    "file_name = \"everybody_codes_e2024_q06_p3.txt\"\n",
    "# file_name =\"test.txt\"\n",
    "file = open(file_name, \"r\")\n",
    "data = file.read().strip().split(\"\\n\")\n",
    "\n",
    "dict_list = defaultdict(list)\n",
    "for line in data:\n",
    "    start, leafes = line.split(\":\")\n",
    "    leafes = leafes.split(\",\")\n",
    "    for leaf in leafes:\n",
    "        dict_list[start].append(leaf)\n",
    "\n",
    "def getPaths(root):\n",
    "    if root in [\"BUG\", \"ANT\"]:\n",
    "        return []\n",
    "    res = []\n",
    "    if root == '@':\n",
    "        return [['@']]\n",
    "    for c in dict_list[root]:\n",
    "        for p in getPaths(c):\n",
    "            res.append([root] + p)\n",
    "    return res\n",
    "\n",
    "paths = getPaths('RR')\n",
    "\n",
    "res = defaultdict(list)\n",
    "# iterate over all path and find lenght\n",
    "for path in paths:\n",
    "    res[len(path)].append(path)\n",
    "\n",
    "# find the length which appears just once\n",
    "for length in res:\n",
    "    if len(res[length]) == 1:\n",
    "        print(\"\".join([i[0] for i in res[length][0]]))\n",
    "\n",
    "\n",
    "    \n"
   ]
  },
  {
   "cell_type": "code",
   "execution_count": null,
   "metadata": {},
   "outputs": [],
   "source": []
  }
 ],
 "metadata": {
  "kernelspec": {
   "display_name": "Python 3",
   "language": "python",
   "name": "python3"
  },
  "language_info": {
   "codemirror_mode": {
    "name": "ipython",
    "version": 3
   },
   "file_extension": ".py",
   "mimetype": "text/x-python",
   "name": "python",
   "nbconvert_exporter": "python",
   "pygments_lexer": "ipython3",
   "version": "3.12.6"
  }
 },
 "nbformat": 4,
 "nbformat_minor": 2
}
