{
 "cells": [
  {
   "cell_type": "markdown",
   "metadata": {},
   "source": [
    "# Part 1"
   ]
  },
  {
   "cell_type": "code",
   "execution_count": 27,
   "metadata": {},
   "outputs": [
    {
     "name": "stdout",
     "output_type": "stream",
     "text": [
      "127\n"
     ]
    }
   ],
   "source": [
    "file_name = \"everybody_codes_e2024_q03_p1.txt\"\n",
    "file = open(file_name, \"r\")\n",
    "data = file.read().strip().split(\"\\n\")\n",
    "\n",
    "G = [[1 if c == \"#\" else 0 for c in line ] for line in data]\n",
    "\n",
    "\n",
    "def get_neighbors(matrix, x,y):\n",
    "    neighbors = []\n",
    "\n",
    "    # directions: up, down,left, right\n",
    "    directions = [(-1,0), (1,0), (0,-1), (0,1)]\n",
    "    rows = len(matrix)\n",
    "    cols = len(matrix[0])\n",
    "\n",
    "    for dr, dc in directions:\n",
    "        new_row, new_col = x + dr, y + dc\n",
    "        if 0 <= new_row < rows and 0 <= new_col < cols:  # Prüfen, ob innerhalb der Grenzen\n",
    "            neighbors.append(matrix[new_row][new_col])\n",
    "\n",
    "    return neighbors\n",
    "\n",
    "\n",
    "def get_safe_blocks(G, correct_neigbors = 4):\n",
    "    R = len(G)\n",
    "    C = len(G[0])\n",
    "    depth = 1\n",
    "    res = 0\n",
    "\n",
    "    while True:\n",
    "        changes = 0\n",
    "        changes_to_apply = []\n",
    "        for r in range(R):\n",
    "            for c in range(C):\n",
    "                if G[r][c] == depth:\n",
    "                    if depth == 1:\n",
    "                        res += 1\n",
    "                    if get_neighbors(G,r,c).count(depth) == correct_neigbors:\n",
    "                        res += 1\n",
    "                        changes_to_apply.append((r,c))\n",
    "        depth += 1\n",
    "        # apply change without creating a copy of the grid\n",
    "        for c_r,c_c in changes_to_apply:\n",
    "            G[c_r][c_c] += 1\n",
    "        if not changes_to_apply:\n",
    "            break\n",
    "\n",
    "    print(res)\n",
    "\n",
    "get_safe_blocks(G)"
   ]
  },
  {
   "cell_type": "markdown",
   "metadata": {},
   "source": [
    "# Part 2"
   ]
  },
  {
   "cell_type": "code",
   "execution_count": 28,
   "metadata": {},
   "outputs": [
    {
     "name": "stdout",
     "output_type": "stream",
     "text": [
      "2691\n"
     ]
    }
   ],
   "source": [
    "file_name = \"everybody_codes_e2024_q03_p2.txt\"\n",
    "file = open(file_name, \"r\")\n",
    "data = file.read().strip().split(\"\\n\")\n",
    "\n",
    "G = [[1 if c == \"#\" else 0 for c in line ] for line in data]\n",
    "\n",
    "\n",
    "get_safe_blocks(G)"
   ]
  },
  {
   "cell_type": "markdown",
   "metadata": {},
   "source": [
    "# Part 3"
   ]
  },
  {
   "cell_type": "code",
   "execution_count": 29,
   "metadata": {},
   "outputs": [
    {
     "name": "stdout",
     "output_type": "stream",
     "text": [
      "10252\n"
     ]
    }
   ],
   "source": [
    "file_name = \"everybody_codes_e2024_q03_p3.txt\"\n",
    "file = open(file_name, \"r\")\n",
    "data = file.read().strip().split(\"\\n\")\n",
    "\n",
    "G = [[1 if c == \"#\" else 0 for c in line ] for line in data]\n",
    "\n",
    "def get_neighbors(matrix, x,y):\n",
    "    neighbors = []\n",
    "\n",
    "    # directions: up, down,left, right\n",
    "    directions = [(-1,0), (1,0), (0,-1), (0,1),\n",
    "                  (-1,-1), (-1,1), (1,-1), (1,1)]\n",
    "    rows = len(matrix)\n",
    "    cols = len(matrix[0])\n",
    "\n",
    "    for dr, dc in directions:\n",
    "        new_row, new_col = x + dr, y + dc\n",
    "        if 0 <= new_row < rows and 0 <= new_col < cols:  # Prüfen, ob innerhalb der Grenzen\n",
    "            neighbors.append(matrix[new_row][new_col])\n",
    "\n",
    "    return neighbors\n",
    "\n",
    "get_safe_blocks(G, correct_neigbors=8)"
   ]
  },
  {
   "cell_type": "code",
   "execution_count": null,
   "metadata": {},
   "outputs": [],
   "source": []
  }
 ],
 "metadata": {
  "kernelspec": {
   "display_name": "Python 3",
   "language": "python",
   "name": "python3"
  },
  "language_info": {
   "codemirror_mode": {
    "name": "ipython",
    "version": 3
   },
   "file_extension": ".py",
   "mimetype": "text/x-python",
   "name": "python",
   "nbconvert_exporter": "python",
   "pygments_lexer": "ipython3",
   "version": "3.12.6"
  }
 },
 "nbformat": 4,
 "nbformat_minor": 2
}
