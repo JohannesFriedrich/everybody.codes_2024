{
 "cells": [
  {
   "cell_type": "markdown",
   "metadata": {},
   "source": [
    "# Part 1"
   ]
  },
  {
   "cell_type": "code",
   "execution_count": 30,
   "metadata": {},
   "outputs": [
    {
     "name": "stdout",
     "output_type": "stream",
     "text": [
      "{'D': 99, 'J': 108, 'I': 115, 'G': 117, 'A': 112, 'E': 103, 'H': 101, 'K': 106, 'C': 93}\n"
     ]
    },
    {
     "data": {
      "text/plain": [
       "'GIAJKEHDC'"
      ]
     },
     "execution_count": 30,
     "metadata": {},
     "output_type": "execute_result"
    }
   ],
   "source": [
    "file_name = \"everybody_codes_e2024_q07_p1.txt\"\n",
    "file = open(file_name, \"r\")\n",
    "data = file.read().strip().split(\"\\n\")\n",
    "\n",
    "# data = \"H:+,=,=,-,-,-,+,+,+,=\"\n",
    "\n",
    "plans_res = dict()\n",
    "for line in data:\n",
    "    line_split = line.split(\":\")\n",
    "    plan = line_split[0]\n",
    "    receipe = line_split[1].split(\",\")\n",
    "    res = 0\n",
    "    segment_res = 10\n",
    "    for idx in range(10):\n",
    "        sign = receipe[idx]\n",
    "        if sign == \"+\":\n",
    "            segment_res += 1\n",
    "        elif sign == \"-\":\n",
    "            segment_res -= 1\n",
    "        res = max(0, res + segment_res)\n",
    "\n",
    "    plans_res[plan] = res\n",
    "\n",
    "print(plans_res)\n",
    "\n",
    "\"\".join(sorted(plans_res, key=plans_res.get, reverse=True))\n",
    "    \n",
    "\n",
    "# data = data[2]"
   ]
  },
  {
   "cell_type": "markdown",
   "metadata": {},
   "source": [
    "# Part 2"
   ]
  },
  {
   "cell_type": "code",
   "execution_count": null,
   "metadata": {},
   "outputs": [
    {
     "name": "stdout",
     "output_type": "stream",
     "text": [
      "{'C': 340686, 'J': 369225, 'D': 325524, 'F': 316606, 'H': 302204, 'K': 348654, 'I': 316702, 'E': 332718, 'A': 327499}\n"
     ]
    },
    {
     "data": {
      "text/plain": [
       "'JKCEADIFH'"
      ]
     },
     "execution_count": 9,
     "metadata": {},
     "output_type": "execute_result"
    }
   ],
   "source": [
    "track = list(\"-=++=-==++=++=-=+=-=+=+=--=-=++=-==++=-+=-=+=-=+=+=++=-+==++=++=-=-=---=++==-\" +\n",
    "             \"--==++++==+=+++-=+=-=+=-+-=+-=+-=+=-=+=--=+++=++=+++==++==--=+=++==+++-\"[::-1]+\n",
    "             \"-=+=+=-S\")\n",
    "file_name = \"everybody_codes_e2024_q07_p2.txt\"\n",
    "file = open(file_name, \"r\")\n",
    "data = file.read().strip().split(\"\\n\")\n",
    "\n",
    "plans_res = dict()\n",
    "for line in data:\n",
    "    line_split = line.split(\":\")\n",
    "    plan = line_split[0]\n",
    "    receipe = line_split[1].split(\",\")\n",
    "    \n",
    "    res = 0\n",
    "    segment_res = 10\n",
    "    for idx in range(10*len(track)):\n",
    "        sign_plan = receipe[idx%len(receipe)]\n",
    "        sign_track = track[idx%len(track)]\n",
    "        sign = sign_plan if sign_track == \"=\" or sign_track == \"S\" else sign_track\n",
    "        if sign == \"+\":\n",
    "            segment_res += 1\n",
    "        elif sign == \"-\":\n",
    "            segment_res -= 1\n",
    "        res = max(0, res + segment_res)\n",
    "\n",
    "    plans_res[plan] = res\n",
    "\n",
    "print(plans_res)\n",
    "\n",
    "\"\".join(sorted(plans_res, key=plans_res.get, reverse=True))\n"
   ]
  },
  {
   "cell_type": "markdown",
   "metadata": {},
   "source": [
    "# Part 3"
   ]
  },
  {
   "cell_type": "code",
   "execution_count": null,
   "metadata": {},
   "outputs": [],
   "source": [
    "from itertools import combinations, permutations\n",
    "\n",
    "combis = list(permutations([\"+\",\"-\",\"=\",\"+\",\"-\",\"=\",\"+\",\"-\",\"=\",\"+\",\"+\"], 11))\n",
    "track = list(\"+=+++===-+++++=-==+--+=+===-++=====+--===++=-==+=++====-==-===+=+=--==++=+========-=======++--+++=-++=-+=+==-S\")\n",
    "file_name = \"everybody_codes_e2024_q07_p3.txt\"\n",
    "file = open(file_name, \"r\")\n",
    "data = file.read().strip().split(\"\\n\")\n",
    "\n",
    "# plans_res = dict()\n",
    "# for line in data:\n",
    "#     line_split = line.split(\":\")\n",
    "#     plan = line_split[0]\n",
    "#     receipe = line_split[1].split(\",\")\n",
    "    \n",
    "#     res = 0\n",
    "#     segment_res = 10\n",
    "#     for idx in range(10*len(track)):\n",
    "#         sign_plan = receipe[idx%len(receipe)]\n",
    "#         sign_track = track[idx%len(track)]\n",
    "#         sign = sign_plan if sign_track == \"=\" or sign_track == \"S\" else sign_track\n",
    "#         if sign == \"+\":\n",
    "#             segment_res += 1\n",
    "#         elif sign == \"-\":\n",
    "#             segment_res -= 1\n",
    "#         res = max(0, res + segment_res)\n",
    "\n",
    "#     plans_res[plan] = res\n",
    "\n",
    "# print(plans_res)\n",
    "\n",
    "# \"\".join(sorted(plans_res, key=plans_res.get, reverse=True))\n"
   ]
  }
 ],
 "metadata": {
  "kernelspec": {
   "display_name": "Python 3",
   "language": "python",
   "name": "python3"
  },
  "language_info": {
   "codemirror_mode": {
    "name": "ipython",
    "version": 3
   },
   "file_extension": ".py",
   "mimetype": "text/x-python",
   "name": "python",
   "nbconvert_exporter": "python",
   "pygments_lexer": "ipython3",
   "version": "3.12.6"
  }
 },
 "nbformat": 4,
 "nbformat_minor": 2
}
