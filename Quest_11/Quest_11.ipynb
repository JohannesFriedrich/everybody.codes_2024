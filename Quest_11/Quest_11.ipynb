{
 "cells": [
  {
   "cell_type": "markdown",
   "metadata": {},
   "source": [
    "# Part 1"
   ]
  },
  {
   "cell_type": "code",
   "execution_count": 4,
   "metadata": {},
   "outputs": [
    {
     "data": {
      "text/plain": [
       "36"
      ]
     },
     "execution_count": 4,
     "metadata": {},
     "output_type": "execute_result"
    }
   ],
   "source": [
    "from collections import defaultdict\n",
    "\n",
    "file_name = \"everybody_codes_e2024_q11_p1.txt\"\n",
    "file = open(file_name, \"r\")\n",
    "data = file.read().strip().split(\"\\n\")\n",
    "\n",
    "tab = {}\n",
    "for line in data:\n",
    "    species, birth = line.split(\":\")\n",
    "    tab[species] = birth.split(\",\")\n",
    "\n",
    "def calc_termites(days, start_termite):\n",
    "    res = defaultdict(int)\n",
    "    res[start_termite] = 1\n",
    "    for _ in range(days):\n",
    "        temp = defaultdict(int)\n",
    "        for key, value in res.items():\n",
    "            for x in tab[key]:\n",
    "                temp[x] += value\n",
    "        res = temp\n",
    "    return res\n",
    "    \n",
    "\n",
    "sum(calc_termites(4,\"A\").values())\n"
   ]
  },
  {
   "cell_type": "markdown",
   "metadata": {},
   "source": [
    "# Part 2"
   ]
  },
  {
   "cell_type": "code",
   "execution_count": 5,
   "metadata": {},
   "outputs": [
    {
     "data": {
      "text/plain": [
       "266643"
      ]
     },
     "execution_count": 5,
     "metadata": {},
     "output_type": "execute_result"
    }
   ],
   "source": [
    "file_name = \"everybody_codes_e2024_q11_p2.txt\"\n",
    "file = open(file_name, \"r\")\n",
    "data = file.read().strip().split(\"\\n\")\n",
    "\n",
    "tab = {}\n",
    "for line in data:\n",
    "    species, birth = line.split(\":\")\n",
    "    tab[species] = birth.split(\",\")\n",
    "\n",
    "sum(calc_termites(10,\"Z\").values())\n",
    "\n"
   ]
  },
  {
   "cell_type": "markdown",
   "metadata": {},
   "source": [
    "# Part 3"
   ]
  },
  {
   "cell_type": "code",
   "execution_count": 6,
   "metadata": {},
   "outputs": [
    {
     "data": {
      "text/plain": [
       "956235520042"
      ]
     },
     "execution_count": 6,
     "metadata": {},
     "output_type": "execute_result"
    }
   ],
   "source": [
    "file_name = \"everybody_codes_e2024_q11_p3.txt\"\n",
    "file = open(file_name, \"r\")\n",
    "data = file.read().strip().split(\"\\n\")\n",
    "\n",
    "tab = {}\n",
    "for line in data:\n",
    "    species, birth = line.split(\":\")\n",
    "    tab[species] = birth.split(\",\")\n",
    "\n",
    "res = []\n",
    "for spec in tab.keys():\n",
    "    res.append(sum(calc_termites(20, spec).values()))\n",
    "\n",
    "max(res) - min(res)\n",
    "\n",
    "\n",
    "\n",
    "\n",
    "    \n",
    "    \n",
    "\n"
   ]
  },
  {
   "cell_type": "code",
   "execution_count": null,
   "metadata": {},
   "outputs": [],
   "source": []
  }
 ],
 "metadata": {
  "kernelspec": {
   "display_name": "Python 3",
   "language": "python",
   "name": "python3"
  },
  "language_info": {
   "codemirror_mode": {
    "name": "ipython",
    "version": 3
   },
   "file_extension": ".py",
   "mimetype": "text/x-python",
   "name": "python",
   "nbconvert_exporter": "python",
   "pygments_lexer": "ipython3",
   "version": "3.12.6"
  }
 },
 "nbformat": 4,
 "nbformat_minor": 2
}
