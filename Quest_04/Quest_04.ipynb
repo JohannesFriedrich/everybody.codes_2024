{
 "cells": [
  {
   "cell_type": "markdown",
   "metadata": {},
   "source": [
    "# Part 1"
   ]
  },
  {
   "cell_type": "code",
   "execution_count": null,
   "metadata": {},
   "outputs": [
    {
     "data": {
      "text/plain": [
       "93"
      ]
     },
     "execution_count": 4,
     "metadata": {},
     "output_type": "execute_result"
    }
   ],
   "source": [
    "file_name = \"everybody_codes_e2024_q04_p1.txt\"\n",
    "file = open(file_name, \"r\")\n",
    "data = [int(i) for i in file.read().strip().split(\"\\n\")]\n",
    "\n",
    "min_nail = min(data)\n",
    "sum([nail-min_nail for nail in data])\n",
    "    \n"
   ]
  },
  {
   "cell_type": "markdown",
   "metadata": {},
   "source": [
    "# Part 2"
   ]
  },
  {
   "cell_type": "code",
   "execution_count": null,
   "metadata": {},
   "outputs": [
    {
     "data": {
      "text/plain": [
       "907508"
      ]
     },
     "execution_count": 11,
     "metadata": {},
     "output_type": "execute_result"
    }
   ],
   "source": [
    "file_name = \"everybody_codes_e2024_q04_p2.txt\"\n",
    "file = open(file_name, \"r\")\n",
    "data = [int(i) for i in file.read().strip().split(\"\\n\")]\n",
    "\n",
    "min_nail = min(data)\n",
    "sum([nail-min_nail for nail in data])\n",
    "    \n"
   ]
  },
  {
   "cell_type": "markdown",
   "metadata": {},
   "source": [
    "# Part 3"
   ]
  },
  {
   "cell_type": "code",
   "execution_count": null,
   "metadata": {},
   "outputs": [
    {
     "data": {
      "text/plain": [
       "125007971"
      ]
     },
     "execution_count": 15,
     "metadata": {},
     "output_type": "execute_result"
    }
   ],
   "source": [
    "import statistics\n",
    "file_name = \"everybody_codes_e2024_q04_p3.txt\"\n",
    "file = open(file_name, \"r\")\n",
    "data = [int(i) for i in file.read().strip().split(\"\\n\")]\n",
    "\n",
    "# optimum level is mean of all nail-heights:\n",
    "level = int(statistics.median(data))\n",
    "\n",
    "sum([abs(nail-level) for nail in data])\n",
    "\n"
   ]
  },
  {
   "cell_type": "code",
   "execution_count": null,
   "metadata": {},
   "outputs": [],
   "source": []
  }
 ],
 "metadata": {
  "kernelspec": {
   "display_name": "Python 3",
   "language": "python",
   "name": "python3"
  },
  "language_info": {
   "codemirror_mode": {
    "name": "ipython",
    "version": 3
   },
   "file_extension": ".py",
   "mimetype": "text/x-python",
   "name": "python",
   "nbconvert_exporter": "python",
   "pygments_lexer": "ipython3",
   "version": "3.12.6"
  }
 },
 "nbformat": 4,
 "nbformat_minor": 2
}
